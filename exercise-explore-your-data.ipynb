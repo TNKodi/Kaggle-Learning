{
 "cells": [
  {
   "cell_type": "markdown",
   "id": "f1b07e6c",
   "metadata": {
    "papermill": {
     "duration": 0.003418,
     "end_time": "2025-02-26T19:07:26.312639",
     "exception": false,
     "start_time": "2025-02-26T19:07:26.309221",
     "status": "completed"
    },
    "tags": []
   },
   "source": [
    "**[Machine Learning Course Home Page](https://www.kaggle.com/learn/machine-learning)**\n",
    "\n",
    "---\n"
   ]
  },
  {
   "cell_type": "markdown",
   "id": "5fd7adbd",
   "metadata": {
    "papermill": {
     "duration": 0.002659,
     "end_time": "2025-02-26T19:07:26.318603",
     "exception": false,
     "start_time": "2025-02-26T19:07:26.315944",
     "status": "completed"
    },
    "tags": []
   },
   "source": [
    "This exercise will test your ability to read a data file and understand statistics about the data.\n",
    "\n",
    "In later exercises, you will apply techniques to filter the data, build a machine learning model, and iteratively improve your model.\n",
    "\n",
    "The course examples use data from Melbourne. To ensure you can apply these techniques on your own, you will have to apply them to a new dataset (with house prices from Iowa).\n",
    "\n",
    "The exercises use a \"notebook\" coding environment.  In case you are unfamiliar with notebooks, we have a [90-second intro video](https://www.youtube.com/watch?v=4C2qMnaIKL4).\n",
    "\n",
    "# Exercises\n",
    "\n",
    "Run the following cell to set up code-checking, which will verify your work as you go."
   ]
  },
  {
   "cell_type": "code",
   "execution_count": 1,
   "id": "dc450825",
   "metadata": {
    "collapsed": true,
    "execution": {
     "iopub.execute_input": "2025-02-26T19:07:26.326312Z",
     "iopub.status.busy": "2025-02-26T19:07:26.325750Z",
     "iopub.status.idle": "2025-02-26T19:07:27.637367Z",
     "shell.execute_reply": "2025-02-26T19:07:27.635853Z"
    },
    "jupyter": {
     "outputs_hidden": true
    },
    "papermill": {
     "duration": 1.31898,
     "end_time": "2025-02-26T19:07:27.640560",
     "exception": false,
     "start_time": "2025-02-26T19:07:26.321580",
     "status": "completed"
    },
    "tags": []
   },
   "outputs": [
    {
     "name": "stdout",
     "output_type": "stream",
     "text": [
      "Setup Complete\n"
     ]
    }
   ],
   "source": [
    "# Set up code checking\n",
    "from learntools.core import binder\n",
    "binder.bind(globals())\n",
    "from learntools.machine_learning.ex2 import *\n",
    "print(\"Setup Complete\")"
   ]
  },
  {
   "cell_type": "markdown",
   "id": "a3f0e716",
   "metadata": {
    "papermill": {
     "duration": 0.004458,
     "end_time": "2025-02-26T19:07:27.649412",
     "exception": false,
     "start_time": "2025-02-26T19:07:27.644954",
     "status": "completed"
    },
    "tags": []
   },
   "source": [
    "## Step 1: Loading Data\n",
    "Read the Iowa data file into a Pandas DataFrame called `home_data`."
   ]
  },
  {
   "cell_type": "code",
   "execution_count": 2,
   "id": "a6959ed5",
   "metadata": {
    "collapsed": true,
    "execution": {
     "iopub.execute_input": "2025-02-26T19:07:27.657325Z",
     "iopub.status.busy": "2025-02-26T19:07:27.656767Z",
     "iopub.status.idle": "2025-02-26T19:07:27.668407Z",
     "shell.execute_reply": "2025-02-26T19:07:27.667216Z"
    },
    "jupyter": {
     "outputs_hidden": true
    },
    "papermill": {
     "duration": 0.017697,
     "end_time": "2025-02-26T19:07:27.670386",
     "exception": false,
     "start_time": "2025-02-26T19:07:27.652689",
     "status": "completed"
    },
    "tags": []
   },
   "outputs": [
    {
     "data": {
      "application/javascript": [
       "parent.postMessage({\"jupyterEvent\": \"custom.exercise_interaction\", \"data\": {\"outcomeType\": 4, \"interactionType\": 1, \"questionType\": 1, \"questionId\": \"1_LoadHomeData\", \"learnToolsVersion\": \"0.3.4\", \"valueTowardsCompletion\": 0.0, \"failureMessage\": \"\", \"exceptionClass\": \"\", \"trace\": \"\"}}, \"*\")"
      ],
      "text/plain": [
       "<IPython.core.display.Javascript object>"
      ]
     },
     "metadata": {},
     "output_type": "display_data"
    },
    {
     "data": {
      "text/markdown": [
       "<span style=\"color:#ccaa33\">Check:</span> When you've updated the starter code, `check()` will tell you whether your code is correct. You need to update the code that creates variable `home_data`"
      ],
      "text/plain": [
       "Check: When you've updated the starter code, `check()` will tell you whether your code is correct. You need to update the code that creates variable `home_data`"
      ]
     },
     "metadata": {},
     "output_type": "display_data"
    }
   ],
   "source": [
    "import pandas as pd\n",
    "\n",
    "# Path of the file to read\n",
    "iowa_file_path = '../input/home-data-for-ml-course/train.csv'\n",
    "\n",
    "# Fill in the line below to read the file into a variable home_data\n",
    "home_data = ____\n",
    "\n",
    "# Call line below with no argument to check that you've loaded the data correctly\n",
    "step_1.check()"
   ]
  },
  {
   "cell_type": "code",
   "execution_count": 3,
   "id": "7fd4410a",
   "metadata": {
    "collapsed": true,
    "execution": {
     "iopub.execute_input": "2025-02-26T19:07:27.679674Z",
     "iopub.status.busy": "2025-02-26T19:07:27.679337Z",
     "iopub.status.idle": "2025-02-26T19:07:27.683858Z",
     "shell.execute_reply": "2025-02-26T19:07:27.682517Z"
    },
    "jupyter": {
     "outputs_hidden": true
    },
    "papermill": {
     "duration": 0.011656,
     "end_time": "2025-02-26T19:07:27.685896",
     "exception": false,
     "start_time": "2025-02-26T19:07:27.674240",
     "status": "completed"
    },
    "tags": []
   },
   "outputs": [],
   "source": [
    "# Lines below will give you a hint or solution code\n",
    "#step_1.hint()\n",
    "#step_1.solution()"
   ]
  },
  {
   "cell_type": "markdown",
   "id": "9a01ad08",
   "metadata": {
    "papermill": {
     "duration": 0.003278,
     "end_time": "2025-02-26T19:07:27.692803",
     "exception": false,
     "start_time": "2025-02-26T19:07:27.689525",
     "status": "completed"
    },
    "tags": []
   },
   "source": [
    "## Step 2: Review The Data\n",
    "Use the command you learned to view summary statistics of the data. Then fill in variables to answer the following questions"
   ]
  },
  {
   "cell_type": "code",
   "execution_count": 4,
   "id": "15ab5049",
   "metadata": {
    "collapsed": true,
    "execution": {
     "iopub.execute_input": "2025-02-26T19:07:27.701716Z",
     "iopub.status.busy": "2025-02-26T19:07:27.701365Z",
     "iopub.status.idle": "2025-02-26T19:07:27.709339Z",
     "shell.execute_reply": "2025-02-26T19:07:27.707828Z"
    },
    "jupyter": {
     "outputs_hidden": true
    },
    "papermill": {
     "duration": 0.014703,
     "end_time": "2025-02-26T19:07:27.711509",
     "exception": false,
     "start_time": "2025-02-26T19:07:27.696806",
     "status": "completed"
    },
    "tags": []
   },
   "outputs": [
    {
     "data": {
      "text/markdown": [],
      "text/plain": [
       "<learntools.core.constants.PlaceholderValue at 0x7f5357291e10>"
      ]
     },
     "execution_count": 4,
     "metadata": {},
     "output_type": "execute_result"
    }
   ],
   "source": [
    "# Print summary statistics in next line\n",
    "____"
   ]
  },
  {
   "cell_type": "code",
   "execution_count": 5,
   "id": "dd136084",
   "metadata": {
    "execution": {
     "iopub.execute_input": "2025-02-26T19:07:27.720274Z",
     "iopub.status.busy": "2025-02-26T19:07:27.719858Z",
     "iopub.status.idle": "2025-02-26T19:07:27.730478Z",
     "shell.execute_reply": "2025-02-26T19:07:27.729129Z"
    },
    "papermill": {
     "duration": 0.017121,
     "end_time": "2025-02-26T19:07:27.732529",
     "exception": false,
     "start_time": "2025-02-26T19:07:27.715408",
     "status": "completed"
    },
    "tags": []
   },
   "outputs": [
    {
     "data": {
      "application/javascript": [
       "parent.postMessage({\"jupyterEvent\": \"custom.exercise_interaction\", \"data\": {\"outcomeType\": 4, \"interactionType\": 1, \"questionType\": 1, \"questionId\": \"2_HomeDescription\", \"learnToolsVersion\": \"0.3.4\", \"valueTowardsCompletion\": 0.0, \"failureMessage\": \"\", \"exceptionClass\": \"\", \"trace\": \"\"}}, \"*\")"
      ],
      "text/plain": [
       "<IPython.core.display.Javascript object>"
      ]
     },
     "metadata": {},
     "output_type": "display_data"
    },
    {
     "data": {
      "text/markdown": [
       "<span style=\"color:#ccaa33\">Check:</span> When you've updated the starter code, `check()` will tell you whether your code is correct. You need to update the code that creates variables `avg_lot_size`, `newest_home_age`"
      ],
      "text/plain": [
       "Check: When you've updated the starter code, `check()` will tell you whether your code is correct. You need to update the code that creates variables `avg_lot_size`, `newest_home_age`"
      ]
     },
     "metadata": {},
     "output_type": "display_data"
    }
   ],
   "source": [
    "# What is the average lot size (rounded to nearest integer)?\n",
    "avg_lot_size = ____\n",
    "\n",
    "# As of today, how old is the newest home (current year - the date in which it was built)\n",
    "newest_home_age = ____\n",
    "\n",
    "# Checks your answers\n",
    "step_2.check()"
   ]
  },
  {
   "cell_type": "code",
   "execution_count": 6,
   "id": "0a5de45d",
   "metadata": {
    "collapsed": true,
    "execution": {
     "iopub.execute_input": "2025-02-26T19:07:27.741579Z",
     "iopub.status.busy": "2025-02-26T19:07:27.741218Z",
     "iopub.status.idle": "2025-02-26T19:07:27.745848Z",
     "shell.execute_reply": "2025-02-26T19:07:27.744339Z"
    },
    "jupyter": {
     "outputs_hidden": true
    },
    "papermill": {
     "duration": 0.011127,
     "end_time": "2025-02-26T19:07:27.747582",
     "exception": false,
     "start_time": "2025-02-26T19:07:27.736455",
     "status": "completed"
    },
    "tags": []
   },
   "outputs": [],
   "source": [
    "#step_2.hint()\n",
    "#step_2.solution()"
   ]
  },
  {
   "cell_type": "markdown",
   "id": "a4089d69",
   "metadata": {
    "papermill": {
     "duration": 0.003708,
     "end_time": "2025-02-26T19:07:27.755932",
     "exception": false,
     "start_time": "2025-02-26T19:07:27.752224",
     "status": "completed"
    },
    "tags": []
   },
   "source": [
    "## Think About Your Data\n",
    "\n",
    "The newest house in your data isn't that new.  A few potential explanations for this:\n",
    "1. They haven't built new houses where this data was collected.\n",
    "1. The data was collected a long time ago. Houses built after the data publication wouldn't show up.\n",
    "\n",
    "If the reason is explanation #1 above, does that affect your trust in the model you build with this data? What about if it is reason #2?\n",
    "\n",
    "How could you dig into the data to see which explanation is more plausible?\n",
    "\n",
    "Check out this **[discussion thread](https://www.kaggle.com/learn-forum/60581)** to see what others think or to add your ideas.\n",
    "\n",
    "# Keep Going\n",
    "\n",
    "You are ready for **[Your First Machine Learning Model](https://www.kaggle.com/dansbecker/your-first-machine-learning-model).**\n"
   ]
  },
  {
   "cell_type": "markdown",
   "id": "0c09a8be",
   "metadata": {
    "papermill": {
     "duration": 0.004571,
     "end_time": "2025-02-26T19:07:27.764330",
     "exception": false,
     "start_time": "2025-02-26T19:07:27.759759",
     "status": "completed"
    },
    "tags": []
   },
   "source": [
    "---\n",
    "**[Machine Learning Course Home Page](https://www.kaggle.com/learn/machine-learning)**\n",
    "\n"
   ]
  }
 ],
 "metadata": {
  "kaggle": {
   "accelerator": "none",
   "dataSources": [
    {
     "datasetId": 2709,
     "sourceId": 38454,
     "sourceType": "datasetVersion"
    },
    {
     "datasetId": 108980,
     "sourceId": 260251,
     "sourceType": "datasetVersion"
    }
   ],
   "isGpuEnabled": false,
   "isInternetEnabled": false,
   "language": "python",
   "sourceType": "notebook"
  },
  "kernelspec": {
   "display_name": "Python 3",
   "language": "python",
   "name": "python3"
  },
  "language_info": {
   "codemirror_mode": {
    "name": "ipython",
    "version": 3
   },
   "file_extension": ".py",
   "mimetype": "text/x-python",
   "name": "python",
   "nbconvert_exporter": "python",
   "pygments_lexer": "ipython3",
   "version": "3.10.12"
  },
  "papermill": {
   "default_parameters": {},
   "duration": 5.577949,
   "end_time": "2025-02-26T19:07:28.490315",
   "environment_variables": {},
   "exception": null,
   "input_path": "__notebook__.ipynb",
   "output_path": "__notebook__.ipynb",
   "parameters": {},
   "start_time": "2025-02-26T19:07:22.912366",
   "version": "2.6.0"
  }
 },
 "nbformat": 4,
 "nbformat_minor": 5
}
